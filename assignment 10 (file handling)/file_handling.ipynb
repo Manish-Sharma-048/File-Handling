{
 "cells": [
  {
   "cell_type": "markdown",
   "metadata": {},
   "source": [
    "1. Write a Python program to read an entire text file."
   ]
  },
  {
   "cell_type": "code",
   "execution_count": null,
   "metadata": {},
   "outputs": [],
   "source": [
    "file = open(\"file_handling_assignment.txt\",\"r\")\n",
    "text = file.read()\n",
    "print(text)\n",
    "file.close()"
   ]
  },
  {
   "cell_type": "markdown",
   "metadata": {},
   "source": [
    "2. Write a Python program to read first n lines of a file."
   ]
  },
  {
   "cell_type": "code",
   "execution_count": null,
   "metadata": {},
   "outputs": [],
   "source": [
    "file = open(\"file_handling_assignment.txt\",\"r\")\n",
    "for line in file:\n",
    "    print(line,end='')\n",
    "file.close()"
   ]
  },
  {
   "cell_type": "markdown",
   "metadata": {},
   "source": [
    "3. Write a Python program to append text to a file and display the text.  "
   ]
  },
  {
   "cell_type": "code",
   "execution_count": null,
   "metadata": {},
   "outputs": [],
   "source": [
    "file = open(\"abc.txt\",\"a\")\n",
    "file.write(\"\\n Hello World, how are you?\")\n",
    "file = open(\"abc.txt\",\"r\")\n",
    "text = file.read()\n",
    "print(text)\n",
    "file.close()"
   ]
  },
  {
   "cell_type": "markdown",
   "metadata": {},
   "source": [
    "4. Write a Python program to read last n lines of a file."
   ]
  },
  {
   "cell_type": "code",
   "execution_count": null,
   "metadata": {},
   "outputs": [],
   "source": [
    "file = open(\"abc.txt\",\"r\")\n",
    "text = file.readlines()\n",
    "lines = text[-10]\n",
    "print(lines)\n",
    "file.close()"
   ]
  },
  {
   "cell_type": "markdown",
   "metadata": {},
   "source": [
    "5. Write a Python program to read a file line by line and store it into a list."
   ]
  },
  {
   "cell_type": "code",
   "execution_count": null,
   "metadata": {},
   "outputs": [],
   "source": [
    "file = open(\"abc.txt\",\"r\")\n",
    "text = file.readlines()\n",
    "print(text)\n",
    "file.close()"
   ]
  },
  {
   "cell_type": "markdown",
   "metadata": {},
   "source": [
    "6. Write a Python program to read a file line by line store it into a variable."
   ]
  },
  {
   "cell_type": "code",
   "execution_count": null,
   "metadata": {},
   "outputs": [],
   "source": [
    "file = open(\"abc.txt\",\"r\")\n",
    "text = file.read()\n",
    "print(text)\n",
    "file.close()"
   ]
  },
  {
   "cell_type": "markdown",
   "metadata": {},
   "source": [
    "7. Write a Python program to read a file line by line store it into a list."
   ]
  },
  {
   "cell_type": "code",
   "execution_count": null,
   "metadata": {},
   "outputs": [],
   "source": [
    "file = open(\"abc.txt\",\"r\")\n",
    "text = file.readlines()\n",
    "print(text,type(text))\n",
    "file.close()"
   ]
  },
  {
   "cell_type": "markdown",
   "metadata": {},
   "source": [
    "8. Write a python program to find the longest words of a file."
   ]
  },
  {
   "cell_type": "code",
   "execution_count": null,
   "metadata": {},
   "outputs": [],
   "source": [
    "def longest_words(file):\n",
    "    with open(file,'r') as in_file:\n",
    "        words = in_file.read().split()\n",
    "    max_len = len(max(words, key=len))\n",
    "    return[word for word in words if len(word)==max_len]\n",
    "print(longest_words(\"abc.txt\"))"
   ]
  },
  {
   "cell_type": "markdown",
   "metadata": {},
   "source": [
    "9. Write a Python program to count the number of lines in a text file."
   ]
  },
  {
   "cell_type": "code",
   "execution_count": null,
   "metadata": {},
   "outputs": [],
   "source": [
    "file = open('abc.txt','r')\n",
    "text = file.readlines()\n",
    "count = 0\n",
    "for line in text:\n",
    "    count+=1\n",
    "print('This text file has {} lines'.format(count))\n",
    "file.close()"
   ]
  },
  {
   "cell_type": "markdown",
   "metadata": {},
   "source": [
    "10. Write a Python program to count the frequency of words in a file."
   ]
  },
  {
   "cell_type": "code",
   "execution_count": null,
   "metadata": {},
   "outputs": [],
   "source": [
    "dic=dict()\n",
    "with open('abc.txt','r') as f:\n",
    "    text=f.readlines()\n",
    "for line in text:\n",
    "    w_list=line.split(\" \")\n",
    "    for word in w_list:\n",
    "        if word in dic:\n",
    "            dic[word]+=1\n",
    "        else:\n",
    "            dic[word]=1\n",
    "print (dic)"
   ]
  },
  {
   "cell_type": "markdown",
   "metadata": {},
   "source": [
    "11. Write a Python program to get the file size of a plain file."
   ]
  },
  {
   "cell_type": "code",
   "execution_count": null,
   "metadata": {},
   "outputs": [],
   "source": [
    "def file_size(fname):\n",
    "        import os\n",
    "        statinfo = os.stat(fname)\n",
    "        return statinfo.st_size\n",
    "\n",
    "print(file_size('abc.txt'),'bytes')"
   ]
  },
  {
   "cell_type": "markdown",
   "metadata": {},
   "source": [
    "12. Write a Python program to write a list to a file."
   ]
  },
  {
   "cell_type": "code",
   "execution_count": null,
   "metadata": {},
   "outputs": [],
   "source": [
    "li = ['Hello','world',',','how','are','you?']\n",
    "file = open('abc.txt','w')\n",
    "file.write(' '.join(li))\n",
    "file.close()\n",
    "file = open('abc.txt','r')\n",
    "print(file.read())\n",
    "file.close()"
   ]
  },
  {
   "cell_type": "markdown",
   "metadata": {},
   "source": [
    "13. Write a Python program to copy the contents of a file to another  file ."
   ]
  },
  {
   "cell_type": "code",
   "execution_count": null,
   "metadata": {},
   "outputs": [],
   "source": [
    "file = open('file_handling_assignment.txt','r')\n",
    "text = file.read()\n",
    "file.close()\n",
    "file = open('abc.txt','w')\n",
    "file.write(text)\n",
    "file.close()\n",
    "file = open('abc.txt','r')\n",
    "print(file.read())\n",
    "file.close()"
   ]
  },
  {
   "cell_type": "markdown",
   "metadata": {},
   "source": [
    "14. Write a Python program to combine each line from first file with the corresponding line in second file."
   ]
  },
  {
   "cell_type": "code",
   "execution_count": null,
   "metadata": {},
   "outputs": [],
   "source": [
    "file1 = open('abc1.txt','r')\n",
    "file2 = open('abc2.txt','r')\n",
    "\n",
    "text1 = file1.readlines()\n",
    "for i in range(len(text1)):\n",
    "    text1[i] = text1[i].replace('\\n','')\n",
    "\n",
    "text2 = file2.readlines()\n",
    "for i in range(len(text2)):\n",
    "    text2[i] = text2[i].replace('\\n','')\n",
    "\n",
    "for i in range(len(text1)):\n",
    "    print(text1[i]+' '+text2[i])\n",
    "    \n",
    "file1.close()\n",
    "file2.close()"
   ]
  },
  {
   "cell_type": "markdown",
   "metadata": {},
   "source": [
    "15. Write a Python program to read a random line from a file."
   ]
  },
  {
   "cell_type": "code",
   "execution_count": null,
   "metadata": {},
   "outputs": [],
   "source": [
    "import random\n",
    "file = open('abc.txt','r')\n",
    "text = file.readlines()\n",
    "\n",
    "print(text[random.randint(0,len(text))])\n",
    "file.close()"
   ]
  },
  {
   "cell_type": "markdown",
   "metadata": {},
   "source": [
    "16. Write a Python program to assess if a file is closed or not."
   ]
  },
  {
   "cell_type": "code",
   "execution_count": null,
   "metadata": {},
   "outputs": [],
   "source": [
    "file = open('abc.txt','r')\n",
    "print(file.closed,\":- File is open\")\n",
    "file.close()\n",
    "print(file.closed,\":- File is closed\")"
   ]
  },
  {
   "cell_type": "markdown",
   "metadata": {},
   "source": [
    "17. Write a Python program to remove newline characters from a file."
   ]
  },
  {
   "cell_type": "code",
   "execution_count": null,
   "metadata": {},
   "outputs": [],
   "source": [
    "file = open('abc.txt','r')\n",
    "text = file.read()\n",
    "\n",
    "print(text.replace('\\n',' '))\n",
    "file.close()"
   ]
  },
  {
   "cell_type": "markdown",
   "metadata": {},
   "source": [
    "18. Write a Python program that takes a text file as input and returns the number of words of a given text file.  \n",
    "\n",
    "Note: Some words can be separated by a comma with no space.\n"
   ]
  },
  {
   "cell_type": "code",
   "execution_count": null,
   "metadata": {},
   "outputs": [],
   "source": [
    "file = open(input('Enter file path: '),'r')\n",
    "text = file.read()\n",
    "text = text.replace('\\n',' ')\n",
    "li = text.split(' ')\n",
    "print(len(li), 'words in the given file')\n",
    "file.close()"
   ]
  },
  {
   "cell_type": "markdown",
   "metadata": {},
   "source": [
    "19. Write a Python program to extract characters from various text files and puts them into a list."
   ]
  },
  {
   "cell_type": "code",
   "execution_count": null,
   "metadata": {},
   "outputs": [],
   "source": [
    "import glob\n",
    "\n",
    "mylist = [f for f in glob.glob(\"*.txt\")]\n",
    "li = []\n",
    "for i in mylist:\n",
    "    file = open(i,'r')\n",
    "    li.append(file.read())\n",
    "print(li)\n",
    "file.close()"
   ]
  },
  {
   "cell_type": "markdown",
   "metadata": {},
   "source": [
    "20. Write a Python program to generate 26 text files named A.txt, B.txt, and so on up to Z.txt."
   ]
  },
  {
   "cell_type": "code",
   "execution_count": null,
   "metadata": {},
   "outputs": [],
   "source": [
    "for i in range(65,91):\n",
    "    word = chr(i)\n",
    "    file = open('{}.txt'.format(word),'w')\n",
    "file.close()"
   ]
  },
  {
   "cell_type": "markdown",
   "metadata": {},
   "source": [
    "21. Write a Python program to create a file where all letters of English alphabet are listed by specified number of letters on each line."
   ]
  },
  {
   "cell_type": "code",
   "execution_count": null,
   "metadata": {},
   "outputs": [],
   "source": [
    "file = open('char.txt','a')\n",
    "\n",
    "for i in range(65,123):\n",
    "    if i in range(91,97):\n",
    "        continue\n",
    "    else:\n",
    "        file.write('{} = {}\\n'.format(chr(i),i))\n",
    "\n",
    "file.close()"
   ]
  }
 ],
 "metadata": {
  "kernelspec": {
   "display_name": "Python 3",
   "language": "python",
   "name": "python3"
  },
  "language_info": {
   "codemirror_mode": {
    "name": "ipython",
    "version": 3
   },
   "file_extension": ".py",
   "mimetype": "text/x-python",
   "name": "python",
   "nbconvert_exporter": "python",
   "pygments_lexer": "ipython3",
   "version": "3.8.5"
  }
 },
 "nbformat": 4,
 "nbformat_minor": 4
}
